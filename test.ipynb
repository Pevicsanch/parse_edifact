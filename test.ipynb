{
 "cells": [
  {
   "cell_type": "code",
   "execution_count": 5,
   "metadata": {},
   "outputs": [],
   "source": [
    "# import libraries\n",
    "import numpy as np\n",
    "import pandas as pd\n",
    "import matplotlib.pyplot as plt\n"
   ]
  },
  {
   "cell_type": "code",
   "execution_count": 14,
   "metadata": {},
   "outputs": [],
   "source": [
    "import re\n",
    "import json\n",
    "\n",
    "class EDIParser:\n",
    "    def __init__(self, message):\n",
    "        \"\"\"\n",
    "        Inicializa la instancia con un mensaje EDI y lo parsea.\n",
    "        \"\"\"\n",
    "        self.message = message\n",
    "        self.segments = self._split_segments()\n",
    "        self.parsed_message = self._parse_segments()\n",
    "\n",
    "    def _split_segments(self):\n",
    "        \"\"\"\n",
    "        Divide el mensaje EDI en segmentos usando el delimitador `'`.\n",
    "        \"\"\"\n",
    "        return self.message.strip().split(\"'\")\n",
    "\n",
    "    def _parse_segments(self):\n",
    "        \"\"\"\n",
    "        Parsea cada segmento en una lista de diccionarios.\n",
    "        La clave es el identificador del segmento y el valor es una lista de elementos del segmento.\n",
    "        \"\"\"\n",
    "        parsed_segments = []\n",
    "        for segment in self.segments:\n",
    "            if segment:\n",
    "                elements = segment.split('+')\n",
    "                segment_id = elements[0]\n",
    "                if not elements[1:]:\n",
    "                    raise ValueError(f\"Missing data in segment: {segment_id}\")\n",
    "                segment_data = [self._split_elements(element) for element in elements[1:]]\n",
    "                parsed_segments.append({segment_id: segment_data})\n",
    "        return parsed_segments\n",
    "\n",
    "    def _split_elements(self, element):\n",
    "        \"\"\"\n",
    "        Divide los elementos en subelementos usando el delimitador `:`.\n",
    "        \"\"\"\n",
    "        return element.split(':')\n",
    "\n",
    "    def get_parsed_message(self):\n",
    "        \"\"\"\n",
    "        Devuelve el mensaje parseado.\n",
    "        \"\"\"\n",
    "        return self.parsed_message\n",
    "\n",
    "    @staticmethod\n",
    "    def parse_multiple_messages(messages):\n",
    "        \"\"\"\n",
    "        Parsea múltiples mensajes EDI y maneja errores individualmente para cada mensaje.\n",
    "        \"\"\"\n",
    "        parsed_messages = []\n",
    "        for message in messages:\n",
    "            try:\n",
    "                parser = EDIParser(message)\n",
    "                parsed_message = parser.get_parsed_message()\n",
    "                parsed_messages.append(parsed_message)\n",
    "            except Exception as e:\n",
    "                # Manejo de errores: agregar el mensaje de error en lugar del mensaje parseado\n",
    "                parsed_messages.append({\"error\": str(e), \"message\": message})\n",
    "        return parsed_messages\n",
    "\n"
   ]
  },
  {
   "cell_type": "code",
   "execution_count": 21,
   "metadata": {},
   "outputs": [],
   "source": [
    "# Ejemplo de uso\n",
    "edi_messages = [\"\"\"\n",
    "UNB+UNOA:2+ESB98261944:ZZ+ESA58898487:ZZ+240514:1627+8572999++IDADEP135COPAR'UNH+ADM_LLE8572999+COPARN:D:99A:UN:FTLM10'BGM+135+ESB98261944240514162751D1358572999+1'DTM+137:202405141627:203'FTX+ZSE+++VANESSA.MARTINEZ@MSC.COM'RFF+ACA:8572999'RFF+BN:048IBC0348981'TDT+20+YM420A+1++AP00051:::MSC+++9301328:::MSC DORINE:LR'LOC+14+08MBST'LOC+8+MACAS'DTM+133:202405172000:203'NAD+TR+A58898487+TERMINAL BEST'NAD+CN+B98261944+*MEDITERRANEAN SHIPPING COMPANY ESPANA, S.L.U.'GID+1+130:PK'FTX+AAA+++TESTLINER'MEA+WT+AAG+KGM:25000'SGP+8572999+130'EQD+CN++45G1'RFF+SQ:8572999'MEA+WT+AET+KGM:28970'UNT+20+ADM_LLE8572999'UNZ+1+IDADEP135COPAR'                \n",
    "                \n",
    "                \"\"\"\n",
    "]\n"
   ]
  },
  {
   "cell_type": "code",
   "execution_count": 22,
   "metadata": {},
   "outputs": [],
   "source": [
    "# Parsear los mensajes EDI\n",
    "parsed_messages = EDIParser.parse_multiple_messages(edi_messages)\n"
   ]
  },
  {
   "cell_type": "code",
   "execution_count": 23,
   "metadata": {},
   "outputs": [
    {
     "name": "stdout",
     "output_type": "stream",
     "text": [
      "[[{'UNB': [['UNOA', '2'],\n",
      "           ['ESB98261944', 'ZZ'],\n",
      "           ['ESA58898487', 'ZZ'],\n",
      "           ['240514', '1627'],\n",
      "           ['8572999'],\n",
      "           [''],\n",
      "           ['IDADEP135COPAR']]},\n",
      "  {'UNH': [['ADM_LLE8572999'], ['COPARN', 'D', '99A', 'UN', 'FTLM10']]},\n",
      "  {'BGM': [['135'], ['ESB98261944240514162751D1358572999'], ['1']]},\n",
      "  {'DTM': [['137', '202405141627', '203']]},\n",
      "  {'FTX': [['ZSE'], [''], [''], ['VANESSA.MARTINEZ@MSC.COM']]},\n",
      "  {'RFF': [['ACA', '8572999']]},\n",
      "  {'RFF': [['BN', '048IBC0348981']]},\n",
      "  {'TDT': [['20'],\n",
      "           ['YM420A'],\n",
      "           ['1'],\n",
      "           [''],\n",
      "           ['AP00051', '', '', 'MSC'],\n",
      "           [''],\n",
      "           [''],\n",
      "           ['9301328', '', '', 'MSC DORINE', 'LR']]},\n",
      "  {'LOC': [['14'], ['08MBST']]},\n",
      "  {'LOC': [['8'], ['MACAS']]},\n",
      "  {'DTM': [['133', '202405172000', '203']]},\n",
      "  {'NAD': [['TR'], ['A58898487'], ['TERMINAL BEST']]},\n",
      "  {'NAD': [['CN'],\n",
      "           ['B98261944'],\n",
      "           ['*MEDITERRANEAN SHIPPING COMPANY ESPANA, S.L.U.']]},\n",
      "  {'GID': [['1'], ['130', 'PK']]},\n",
      "  {'FTX': [['AAA'], [''], [''], ['TESTLINER']]},\n",
      "  {'MEA': [['WT'], ['AAG'], ['KGM', '25000']]},\n",
      "  {'SGP': [['8572999'], ['130']]},\n",
      "  {'EQD': [['CN'], [''], ['45G1']]},\n",
      "  {'RFF': [['SQ', '8572999']]},\n",
      "  {'MEA': [['WT'], ['AET'], ['KGM', '28970']]},\n",
      "  {'UNT': [['20'], ['ADM_LLE8572999']]},\n",
      "  {'UNZ': [['1'], ['IDADEP135COPAR']]}]]\n"
     ]
    }
   ],
   "source": [
    "import pprint\n",
    "pprint.pprint(parsed_messages)"
   ]
  }
 ],
 "metadata": {
  "kernelspec": {
   "display_name": ".parse_edifact",
   "language": "python",
   "name": "python3"
  },
  "language_info": {
   "codemirror_mode": {
    "name": "ipython",
    "version": 3
   },
   "file_extension": ".py",
   "mimetype": "text/x-python",
   "name": "python",
   "nbconvert_exporter": "python",
   "pygments_lexer": "ipython3",
   "version": "3.11.5"
  }
 },
 "nbformat": 4,
 "nbformat_minor": 2
}
